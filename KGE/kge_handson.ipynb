{
 "cells": [
  {
   "cell_type": "markdown",
   "id": "a9a211eadeb2fafb",
   "metadata": {
    "collapsed": false
   },
   "source": [
    "# Empowering Healthcare with Symbolic Learning and Knowledge Graph Embeddings"
   ]
  },
  {
   "cell_type": "markdown",
   "id": "d2180111817a5c20",
   "metadata": {
    "collapsed": false
   },
   "source": [
    "### Overview: Welcome!!! Today we will play with Symbolic learning and KGE models like TransH or RotatE over the Lung Cancer KG. In Lung Cancer KG, a patient is described by medical characteristics such as smoking habit, cancer stage, mutation type, age, gender and occurence of relapse etc. Here, the task is to predict a patient with recommended drug or relapse condition."
   ]
  },
  {
   "cell_type": "markdown",
   "id": "4617df6d8d1276f8",
   "metadata": {
    "collapsed": false
   },
   "source": [
    "#### Install prerequistes and import necessary modules"
   ]
  },
  {
   "cell_type": "code",
   "execution_count": null,
   "id": "1343d54869640ae0",
   "metadata": {
    "collapsed": false
   },
   "outputs": [],
   "source": [
    "!git clone https://github.com/SDM-TIB/SDM-Hackathon.git"
   ]
  },
  {
   "cell_type": "code",
   "execution_count": null,
   "id": "96560a8f992cec0d",
   "metadata": {
    "collapsed": false
   },
   "outputs": [],
   "source": [
    "%%capture\n",
    "!pip install -r /content/SDM-Hackathon/requirements.txt"
   ]
  },
  {
   "cell_type": "markdown",
   "id": "74c6b8904f911f5a",
   "metadata": {
    "collapsed": false
   },
   "source": [
    "#### Symbolic Learning Execution"
   ]
  },
  {
   "cell_type": "code",
   "execution_count": null,
   "id": "a3535eb476338fa7",
   "metadata": {
    "collapsed": false
   },
   "outputs": [],
   "source": [
    "%cd /content/SDM-Hackathon/KGE/SymbolicLearning\n",
    "!python symbolic_predictions.py"
   ]
  },
  {
   "cell_type": "markdown",
   "id": "18c717cc5117d3ca",
   "metadata": {
    "collapsed": false
   },
   "source": [
    "#### KGE Models Execution"
   ]
  },
  {
   "cell_type": "code",
   "execution_count": null,
   "id": "b94de0cae7167d17",
   "metadata": {
    "collapsed": false
   },
   "outputs": [],
   "source": [
    "!python /content/SDM-Hackathon/KGE/kge.py --dataset_path \"/content/SDM-Hackathon/KGE/KG/OriginalKG/LungCancer.tsv\" --output_dir \"/content/SDM-Hackathon/KGE/OriginalKG\" --results_path \"/content/SDM-Hackathon/KGE/OriginalKG/\" --models TransH"
   ]
  },
  {
   "cell_type": "markdown",
   "id": "3b425aa9e47ad15a",
   "metadata": {
    "collapsed": false
   },
   "source": [
    "#### Perform Link Prediction (to predict the missing link, i.e., tail or head entity)"
   ]
  },
  {
   "cell_type": "code",
   "execution_count": null,
   "id": "71de7bb767b61a58",
   "metadata": {
    "collapsed": false
   },
   "outputs": [],
   "source": [
    "!python /content/SDM-Hackathon/KGE/link_prediction.py --results \"/content/SDM-Hackathon/KGE/KG/OriginalKG/\" --model_name \"TransH\" --head \"3561_Patient\" --relation \"hasRelapse_Progression\""
   ]
  },
  {
   "cell_type": "code",
   "execution_count": null,
   "id": "dae3bf88c8931da6",
   "metadata": {
    "collapsed": false
   },
   "outputs": [],
   "source": [
    "import pandas as pd\n",
    "import json\n",
    "pred_result_path = \"/content/SDM-Hackathon/KGE/KG/OriginalKG/TransH/prediction_result.csv\"\n",
    "pred = pd.read_csv(pred_result_path)\n",
    "\n",
    "# Display the prediction result, i.e., top-5\n",
    "pred.head(5)"
   ]
  },
  {
   "cell_type": "markdown",
   "id": "faa47ebbffcfa640",
   "metadata": {
    "collapsed": false
   },
   "source": [
    "#### Impact of Symbolic Learning over KGE Model Evaluation"
   ]
  },
  {
   "cell_type": "code",
   "execution_count": null,
   "id": "66f26457922d98ee",
   "metadata": {
    "collapsed": false
   },
   "outputs": [],
   "source": [
    "def generate_dataframe(model_name, file_path):\n",
    "    with open(file_path, 'r') as file:\n",
    "        data = json.load(file)\n",
    "\n",
    "    hits_at_10 = data['metrics']['tail']['realistic']['hits_at_10']\n",
    "    mrr = data['metrics']['tail']['realistic']['inverse_harmonic_mean_rank']\n",
    "\n",
    "    df = pd.DataFrame({\n",
    "        'Benchmark': [kg_name],\n",
    "        'Hits@10': [hits_at_10],\n",
    "        'MRR': [mrr]\n",
    "    })\n",
    "    return df\n",
    "\n",
    "model_files = [\n",
    "    ('OriginalKG', '/content/SDM-Hackathon/KGE/KG/OriginalKG/TransH/results.json'),\n",
    "    ('EnrichedKG', '/content/SDM-Hackathon/KGE/KG/EnrichedKG/TransH/results.json'),\n",
    "    ('TransformedKG', '/content/SDM-Hackathon/KGE/KG/TransformedKG/TransH/results.json')\n",
    "]\n",
    "\n",
    "dfs = []\n",
    "for kg_name, file_path in model_files:\n",
    "    df = generate_dataframe(kg_name, file_path)\n",
    "    dfs.append(df)\n",
    "\n",
    "# Concatenate all DataFrames into one\n",
    "final_df = pd.concat(dfs, ignore_index=True)\n",
    "print(final_df)"
   ]
  }
 ],
 "metadata": {
  "kernelspec": {
   "display_name": "Python 3",
   "language": "python",
   "name": "python3"
  },
  "language_info": {
   "codemirror_mode": {
    "name": "ipython",
    "version": 2
   },
   "file_extension": ".py",
   "mimetype": "text/x-python",
   "name": "python",
   "nbconvert_exporter": "python",
   "pygments_lexer": "ipython2",
   "version": "2.7.6"
  }
 },
 "nbformat": 4,
 "nbformat_minor": 5
}
